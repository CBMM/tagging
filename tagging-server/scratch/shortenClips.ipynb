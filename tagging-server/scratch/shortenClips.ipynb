{
 "cells": [
  {
   "cell_type": "code",
   "execution_count": 1,
   "metadata": {
    "collapsed": false
   },
   "outputs": [],
   "source": [
    "import os\n",
    "import tempfile\n",
    "import subprocess\n",
    "import time\n",
    "from boto.s3.connection import S3Connection\n",
    "from boto.s3.key import Key\n",
    "conn = S3Connection(\"APIKEY\", \"APIKEYSECRET\")"
   ]
  },
  {
   "cell_type": "code",
   "execution_count": 14,
   "metadata": {
    "collapsed": true
   },
   "outputs": [],
   "source": [
    "conn.create_bucket('ha2b');"
   ]
  },
  {
   "cell_type": "code",
   "execution_count": 309,
   "metadata": {
    "collapsed": false
   },
   "outputs": [],
   "source": [
    "def getDuration(fname):\n",
    "    # Get frame info\n",
    "    probeCmd = 'ffprobe -v error -show_format ' + fname\n",
    "    probe = subprocess.check_output(probeCmd.split())\n",
    "    matches = filter(lambda s: s.startswith('duration='), probe.split())\n",
    "    assert len(matches) > 0, \"Missing at least one 'duration' key from ffprobe for %s\" % fname\n",
    "    h,s,dur = matches[0].partition('=')\n",
    "    return float(dur)"
   ]
  },
  {
   "cell_type": "code",
   "execution_count": 313,
   "metadata": {
    "collapsed": false
   },
   "outputs": [],
   "source": [
    "def dropFrames(c, k_name, bucket1, bucket2, n_drop_front=3, n_drop_back=3, fps=29.97):\n",
    "    \n",
    "    # Fetch video into temp file\n",
    "    key = c.get_bucket(bucket1).get_key(k_name)\n",
    "    kname,kExtension = os.path.splitext(k_name)\n",
    "    f = tempfile.NamedTemporaryFile(delete=False, suffix=kExtension) # Original video\n",
    "    fName,fExtension = os.path.splitext(f.name)\n",
    "    h = fName + '2' + fExtension\n",
    "    key.get_contents_to_file(f)\n",
    "    f.close()\n",
    "\n",
    "\n",
    "    # Drop initial frames\n",
    "    tStart = n_drop_front / fps\n",
    "    tEnd   = n_drop_back  / fps\n",
    "    tTotal = getDuration(f.name) - tStart - tEnd\n",
    "    ffmpegCall = 'ffmpeg -y -ss ' + str(tStart) + ' -t ' + str(tTotal) + ' -i ' + f.name + ' -strict -2 -b:v 2M ' + h\n",
    "    subprocess.call(ffmpegCall.split())\n",
    "    \n",
    "    # Upload result\n",
    "    k2 = Key(c.get_bucket(bucket2))\n",
    "    k2.key = k_name\n",
    "    k2.set_contents_from_filename(h)\n",
    "    os.unlink(f.name)\n",
    "    print (\"Done: \" + k_name)"
   ]
  },
  {
   "cell_type": "code",
   "execution_count": null,
   "metadata": {
    "collapsed": false
   },
   "outputs": [],
   "source": [
    "for k in b:\n",
    "    if k.key > '':\n",
    "        dropFrames(conn,k.key,'ha2','ha2b')\n",
    "        k.make_public()\n",
    "    else:\n",
    "        print(\"skip\")\n",
    "    "
   ]
  },
  {
   "cell_type": "code",
   "execution_count": 316,
   "metadata": {
    "collapsed": false
   },
   "outputs": [],
   "source": [
    "for i in conn.get_bucket('ha2b'):\n",
    "    i.make_public()"
   ]
  }
 ],
 "metadata": {
  "kernelspec": {
   "display_name": "Python 2",
   "language": "python",
   "name": "python2"
  },
  "language_info": {
   "codemirror_mode": {
    "name": "ipython",
    "version": 2
   },
   "file_extension": ".py",
   "mimetype": "text/x-python",
   "name": "python",
   "nbconvert_exporter": "python",
   "pygments_lexer": "ipython2",
   "version": "2.7.11"
  }
 },
 "nbformat": 4,
 "nbformat_minor": 0
}
